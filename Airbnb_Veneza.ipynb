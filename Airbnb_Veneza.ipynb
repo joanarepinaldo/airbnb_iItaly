{
  "nbformat": 4,
  "nbformat_minor": 0,
  "metadata": {
    "colab": {
      "name": "Airbnb-Veneza.ipynb",
      "provenance": [],
      "collapsed_sections": [],
      "include_colab_link": true
    },
    "kernelspec": {
      "name": "python3",
      "display_name": "Python 3"
    }
  },
  "cells": [
    {
      "cell_type": "markdown",
      "metadata": {
        "id": "view-in-github",
        "colab_type": "text"
      },
      "source": [
        "<a href=\"https://colab.research.google.com/github/joanarepinaldo/airbnb_iItaly/blob/main/Airbnb_Veneza.ipynb\" target=\"_parent\"><img src=\"https://colab.research.google.com/assets/colab-badge.svg\" alt=\"Open In Colab\"/></a>"
      ]
    },
    {
      "cell_type": "markdown",
      "metadata": {
        "id": "69EHwLUVPC75"
      },
      "source": [
        "[<img alt=\"Colaboratory logo\" width=\"15%\" src=\"https://raw.githubusercontent.com/joanarepinaldo/arquivos/main/logo1.jpg\">](https://www.linkedin.com/in/joana-pereira-repinaldo-3368b7116/)\n",
        "\n",
        "---\n",
        "\n",
        "# Análise dos Dados do Airbnb - Veneza - Itália\n",
        "\n",
        "O **[Airbnb](https://www.airbnb.com.br/)** surgiu em 2007 e já conta com mais de **4 milhões** de anfitriões e está presente em **220 países** e regiões. Unindo pessoas que procuraram acomodações e experiências únicas com anfitriões que anunciam seus espaços de maneira simples e prática. Devido a forma criativa e inovadora o **Airbnb** já hospedou 1 bilhão de hospedes ao redor do mundo e estes números tendem a crescer.\n",
        "\n",
        "\n",
        "Através do portal [Inside Airbnb](http://insideairbnb.com/get-the-data.html) conseguimos obter uma grande quantidade de dados para análise e desenvolvimento de soluções de *Data Science*. Para nossa análise foi escolhida a cidade de **Veneza** localizada na Itália, pois é uma das cidades turísticas mais visitas da Itália, conhecida em nível internacional pelas suas belezas históricas, artísticas e panorâmicas, sendo um dos destinos europeus mais procurados pelos turistas.\n",
        "\n",
        "<center><img width=\"50%\" src=\"https://raw.githubusercontent.com/joanarepinaldo/arquivos/main/image.png\"></center>\n",
        "\n",
        "Este projeto faz uma análise dos dados referentes a cidade de Veneza na Itália com o objetivo de apresentar insights de hospedagem para a tomada de decisão dos viajantes.\n",
        "\n",
        "\n",
        "\n",
        "\n"
      ]
    },
    {
      "cell_type": "markdown",
      "metadata": {
        "id": "A5PsHkSBTx0X"
      },
      "source": [
        "## Configurando o ambiente de trabalho\n",
        "----\n",
        "Utilizamos as bibliotecas Pandas, Matplotlib, Seaborn e Numpy para manipular os dados e extrair as informações desejadas, além de facilitar a visualização desses dados."
      ]
    },
    {
      "cell_type": "code",
      "metadata": {
        "id": "Vhp2wMPgJ6zX"
      },
      "source": [
        "# importar os pacotes\n",
        "import pandas as pd\n",
        "import matplotlib.pyplot as plt\n",
        "import seaborn as sns\n",
        "import numpy as np\n",
        "\n",
        "%matplotlib inline"
      ],
      "execution_count": 281,
      "outputs": []
    },
    {
      "cell_type": "markdown",
      "metadata": {
        "id": "0zxQHhIUDF_2"
      },
      "source": [
        "## Obtenção dos Dados\n",
        "---\n",
        "A base de dados utilizada neste projeto pode ser obtida no site [Inside Airbnb](http://insideairbnb.com/get-the-data.html), buscando as cidade *Venice*. \n",
        "\n",
        "Será utilizada a versão simplificada :\n",
        "* `listings.csv` - *Summary information and metrics).*\n",
        "\n",
        "**Importante**: Pensando na possibilidade dos dados não estarem mais disponíveis pelo portal, o que quebraria nosso código, disponibilizo [aqui](https://raw.githubusercontent.com/joanarepinaldo/airbnb_iItaly/main/venice.csv) o conjunto de dados utilizado neste projeto."
      ]
    },
    {
      "cell_type": "code",
      "metadata": {
        "id": "tUmoAT8DLQ5T"
      },
      "source": [
        "# importar o arquivo csv\n",
        "df = pd.read_csv(\"https://raw.githubusercontent.com/joanarepinaldo/airbnb_iItaly/main/venice.csv\")\n"
      ],
      "execution_count": 176,
      "outputs": []
    },
    {
      "cell_type": "markdown",
      "metadata": {
        "id": "RYgvuebKNg8-"
      },
      "source": [
        "**Dicionário das variáveis**\n",
        "\n",
        "* `id` - número de id gerado para identificar o imóvel\n",
        "* `name` - nome da propriedade anunciada\n",
        "* `host_id` - número de id do proprietário (anfitrião) da propriedade\n",
        "* `host_name` - nome do anfitrião\n",
        "* `neighbourhood_group` - o grupo de bairro geocodificado usando a latitude e longitude\n",
        "* `neighbourhood` - nome do bairro\n",
        "* `latitude` - coordenada da latitude da propriedade\n",
        "* `longitude` - coordenada da longitude da propriedade\n",
        "* `room_type` - informa o tipo de quarto que é oferecido\n",
        "* `price` - preço para alugar o imóvel\n",
        "* `minimum_nights` - quantidade mínima de noites para reservar\n",
        "* `number_of_reviews` - número de reviews que a propriedade possui\n",
        "* `last_review` - data do último review\n",
        "* `reviews_per_month` - quantidade de reviews por mês\n",
        "* `calculated_host_listings_count` - quantidade de imóveis do mesmo anfitrião\n",
        "* `availability_365` - número de dias de disponibilidade dentro de 365 dias\n",
        "* `number_of_reviews_ltm` — úmero de reviews da lista nos últimos 12 meses\n",
        "* `license` — número de licença\n"
      ]
    },
    {
      "cell_type": "code",
      "metadata": {
        "id": "2iS_dae7YQtO",
        "colab": {
          "base_uri": "https://localhost:8080/",
          "height": 556
        },
        "outputId": "6c05fa5b-e354-456b-ab4a-664e9a77f9e1"
      },
      "source": [
        "# mostrar as 5 primeiras entradas\n",
        "df.head()"
      ],
      "execution_count": 177,
      "outputs": [
        {
          "output_type": "execute_result",
          "data": {
            "text/html": [
              "<div>\n",
              "<style scoped>\n",
              "    .dataframe tbody tr th:only-of-type {\n",
              "        vertical-align: middle;\n",
              "    }\n",
              "\n",
              "    .dataframe tbody tr th {\n",
              "        vertical-align: top;\n",
              "    }\n",
              "\n",
              "    .dataframe thead th {\n",
              "        text-align: right;\n",
              "    }\n",
              "</style>\n",
              "<table border=\"1\" class=\"dataframe\">\n",
              "  <thead>\n",
              "    <tr style=\"text-align: right;\">\n",
              "      <th></th>\n",
              "      <th>id</th>\n",
              "      <th>name</th>\n",
              "      <th>host_id</th>\n",
              "      <th>host_name</th>\n",
              "      <th>neighbourhood_group</th>\n",
              "      <th>neighbourhood</th>\n",
              "      <th>latitude</th>\n",
              "      <th>longitude</th>\n",
              "      <th>room_type</th>\n",
              "      <th>price</th>\n",
              "      <th>minimum_nights</th>\n",
              "      <th>number_of_reviews</th>\n",
              "      <th>last_review</th>\n",
              "      <th>reviews_per_month</th>\n",
              "      <th>calculated_host_listings_count</th>\n",
              "      <th>availability_365</th>\n",
              "      <th>number_of_reviews_ltm</th>\n",
              "      <th>license</th>\n",
              "    </tr>\n",
              "  </thead>\n",
              "  <tbody>\n",
              "    <tr>\n",
              "      <th>0</th>\n",
              "      <td>6623</td>\n",
              "      <td>Venice Blue on Canal apartment</td>\n",
              "      <td>15016</td>\n",
              "      <td>Francesca</td>\n",
              "      <td>Isole</td>\n",
              "      <td>San Polo</td>\n",
              "      <td>45.43817</td>\n",
              "      <td>12.32739</td>\n",
              "      <td>Entire home/apt</td>\n",
              "      <td>225</td>\n",
              "      <td>3</td>\n",
              "      <td>163</td>\n",
              "      <td>2019-06-26</td>\n",
              "      <td>1.52</td>\n",
              "      <td>3</td>\n",
              "      <td>364</td>\n",
              "      <td>1</td>\n",
              "      <td>NaN</td>\n",
              "    </tr>\n",
              "    <tr>\n",
              "      <th>1</th>\n",
              "      <td>6624</td>\n",
              "      <td>Venice garden charme and canal view!</td>\n",
              "      <td>15016</td>\n",
              "      <td>Francesca</td>\n",
              "      <td>Isole</td>\n",
              "      <td>Santa Croce</td>\n",
              "      <td>45.43977</td>\n",
              "      <td>12.32736</td>\n",
              "      <td>Entire home/apt</td>\n",
              "      <td>213</td>\n",
              "      <td>4</td>\n",
              "      <td>64</td>\n",
              "      <td>2016-07-17</td>\n",
              "      <td>0.66</td>\n",
              "      <td>3</td>\n",
              "      <td>357</td>\n",
              "      <td>0</td>\n",
              "      <td>NaN</td>\n",
              "    </tr>\n",
              "    <tr>\n",
              "      <th>2</th>\n",
              "      <td>12074</td>\n",
              "      <td>Venice home to relax and emotions</td>\n",
              "      <td>15016</td>\n",
              "      <td>Francesca</td>\n",
              "      <td>Isole</td>\n",
              "      <td>San Polo</td>\n",
              "      <td>45.43896</td>\n",
              "      <td>12.32970</td>\n",
              "      <td>Entire home/apt</td>\n",
              "      <td>122</td>\n",
              "      <td>4</td>\n",
              "      <td>186</td>\n",
              "      <td>2021-10-20</td>\n",
              "      <td>1.52</td>\n",
              "      <td>3</td>\n",
              "      <td>351</td>\n",
              "      <td>2</td>\n",
              "      <td>NaN</td>\n",
              "    </tr>\n",
              "    <tr>\n",
              "      <th>3</th>\n",
              "      <td>27116</td>\n",
              "      <td>Junior Suite with balcony overlooking canal</td>\n",
              "      <td>116144</td>\n",
              "      <td>Giò&amp;Giò</td>\n",
              "      <td>Isole</td>\n",
              "      <td>San Marco</td>\n",
              "      <td>45.43277</td>\n",
              "      <td>12.33456</td>\n",
              "      <td>Private room</td>\n",
              "      <td>193</td>\n",
              "      <td>1</td>\n",
              "      <td>412</td>\n",
              "      <td>2021-10-16</td>\n",
              "      <td>3.29</td>\n",
              "      <td>2</td>\n",
              "      <td>201</td>\n",
              "      <td>2</td>\n",
              "      <td>NaN</td>\n",
              "    </tr>\n",
              "    <tr>\n",
              "      <th>4</th>\n",
              "      <td>44527</td>\n",
              "      <td>Historical Luxury Apartment on Calm Sunny Canal</td>\n",
              "      <td>120215</td>\n",
              "      <td>Marc &amp; Elisabeth</td>\n",
              "      <td>Isole</td>\n",
              "      <td>Cannaregio</td>\n",
              "      <td>45.44569</td>\n",
              "      <td>12.32902</td>\n",
              "      <td>Entire home/apt</td>\n",
              "      <td>280</td>\n",
              "      <td>2</td>\n",
              "      <td>81</td>\n",
              "      <td>2021-08-24</td>\n",
              "      <td>1.42</td>\n",
              "      <td>1</td>\n",
              "      <td>289</td>\n",
              "      <td>9</td>\n",
              "      <td>NaN</td>\n",
              "    </tr>\n",
              "  </tbody>\n",
              "</table>\n",
              "</div>"
            ],
            "text/plain": [
              "      id  ... license\n",
              "0   6623  ...     NaN\n",
              "1   6624  ...     NaN\n",
              "2  12074  ...     NaN\n",
              "3  27116  ...     NaN\n",
              "4  44527  ...     NaN\n",
              "\n",
              "[5 rows x 18 columns]"
            ]
          },
          "metadata": {},
          "execution_count": 177
        }
      ]
    },
    {
      "cell_type": "code",
      "metadata": {
        "id": "TFRK0tniLV-G",
        "colab": {
          "base_uri": "https://localhost:8080/",
          "height": 399
        },
        "outputId": "4b8bccfb-b503-4d45-e393-0ee1b2772226"
      },
      "source": [
        "# identificar o volume de dados do DataFrame\n",
        "print(\"Entradas:\\t {}\".format(df.shape[0]))\n",
        "print(\"Variáveis:\\t {}\\n\".format(df.shape[1]))\n",
        "\n",
        "# verificar os tipos de entradas do dataset\n",
        "display(df.dtypes)"
      ],
      "execution_count": 178,
      "outputs": [
        {
          "output_type": "stream",
          "name": "stdout",
          "text": [
            "Entradas:\t 7370\n",
            "Variáveis:\t 18\n",
            "\n"
          ]
        },
        {
          "output_type": "display_data",
          "data": {
            "text/plain": [
              "id                                  int64\n",
              "name                               object\n",
              "host_id                             int64\n",
              "host_name                          object\n",
              "neighbourhood_group                object\n",
              "neighbourhood                      object\n",
              "latitude                          float64\n",
              "longitude                         float64\n",
              "room_type                          object\n",
              "price                               int64\n",
              "minimum_nights                      int64\n",
              "number_of_reviews                   int64\n",
              "last_review                        object\n",
              "reviews_per_month                 float64\n",
              "calculated_host_listings_count      int64\n",
              "availability_365                    int64\n",
              "number_of_reviews_ltm               int64\n",
              "license                            object\n",
              "dtype: object"
            ]
          },
          "metadata": {}
        }
      ]
    },
    {
      "cell_type": "markdown",
      "metadata": {
        "id": "auSalfrVV-pO"
      },
      "source": [
        "## Tratamento dos Dados\n",
        "---\n",
        "Antes de realizar a análise dos dados precisamos realizar um tratamento do mesmo, tratando os dados discrepantes e faltates."
      ]
    },
    {
      "cell_type": "code",
      "metadata": {
        "id": "plk2FjbCXOqP",
        "colab": {
          "base_uri": "https://localhost:8080/"
        },
        "outputId": "b8175991-3c51-4443-ee4d-fbcfdffca247"
      },
      "source": [
        "# porcentagem de valores ausentes\n",
        "(df.isnull().sum() / df.shape[0]).sort_values(ascending=False)"
      ],
      "execution_count": 179,
      "outputs": [
        {
          "output_type": "execute_result",
          "data": {
            "text/plain": [
              "license                           0.840841\n",
              "reviews_per_month                 0.127680\n",
              "last_review                       0.127680\n",
              "host_name                         0.002307\n",
              "longitude                         0.000000\n",
              "name                              0.000000\n",
              "host_id                           0.000000\n",
              "neighbourhood_group               0.000000\n",
              "neighbourhood                     0.000000\n",
              "latitude                          0.000000\n",
              "room_type                         0.000000\n",
              "number_of_reviews_ltm             0.000000\n",
              "price                             0.000000\n",
              "minimum_nights                    0.000000\n",
              "number_of_reviews                 0.000000\n",
              "calculated_host_listings_count    0.000000\n",
              "availability_365                  0.000000\n",
              "id                                0.000000\n",
              "dtype: float64"
            ]
          },
          "metadata": {},
          "execution_count": 179
        }
      ]
    },
    {
      "cell_type": "markdown",
      "metadata": {
        "id": "BEE09W6PX3hB"
      },
      "source": [
        "* A variável `license` possui a maior porcentagem de valores ausentes.Esta variável representa a licença do imóvel, informação que não é relevante para essa análise, deste modo será eliminada do dataset.\n",
        "* As variáveis `reviews_per_month` e `last_review` possuem valores nulos em 12,77%. As informações da coluna `last_review` são irrelevantes para o objetivo deste projeto. Portanto, essa coluna será excluída da base de dados.\n",
        "* A variável `host_name` apresenta uma pequena porcetagem de valores ausentes(0,23%). Estes dados não serão alterados, pois não impactam na análise.\n",
        "\n"
      ]
    },
    {
      "cell_type": "code",
      "metadata": {
        "id": "wFg3hhmCan1d"
      },
      "source": [
        "# eliminar colunas \n",
        "df.drop(columns=['license'], inplace=True)\n",
        "df.drop(columns=['last_review'], inplace=True)"
      ],
      "execution_count": 180,
      "outputs": []
    },
    {
      "cell_type": "markdown",
      "metadata": {
        "id": "ycTpbSvuQHJs"
      },
      "source": [
        "A variável `reviews_per_month`representa a quantidade de reviews por mês e conforme visto possue 12,77% de valores nulos. Com isto, será feito o preenchimento destes valores pela mediana."
      ]
    },
    {
      "cell_type": "code",
      "metadata": {
        "id": "9CgO-7y1QvT7"
      },
      "source": [
        "# preencher valores ausentes com a mediana\n",
        "df = df.fillna({\"reviews_per_month\": df.reviews_per_month.median()})"
      ],
      "execution_count": 181,
      "outputs": []
    },
    {
      "cell_type": "markdown",
      "metadata": {
        "id": "5Lc6BMwUUY-m"
      },
      "source": [
        "**Distribuição das variáveis numéricas**\n",
        "\n"
      ]
    },
    {
      "cell_type": "code",
      "metadata": {
        "colab": {
          "base_uri": "https://localhost:8080/",
          "height": 607
        },
        "id": "4JTxyn4xZgc_",
        "outputId": "233e525d-6a3b-4967-f391-6c764c94d88f"
      },
      "source": [
        "#colunas com variáveis numéricas\n",
        "columns_num=df.iloc[:, 3:17].select_dtypes(include=np.number or np.floating).columns.tolist()\n",
        "\n",
        "#histograma das variáveis numéricas\n",
        "df[columns_num].hist(bins=15, figsize=(20,10));"
      ],
      "execution_count": 182,
      "outputs": [
        {
          "output_type": "display_data",
          "data": {
            "image/png": "[encoded data removed]",
            "text/plain": [
              "<Figure size 1440x720 with 9 Axes>"
            ]
          },
          "metadata": {
            "needs_background": "light"
          }
        }
      ]
    },
    {
      "cell_type": "code",
      "metadata": {
        "colab": {
          "base_uri": "https://localhost:8080/",
          "height": 320
        },
        "id": "3YEQF9plWaw0",
        "outputId": "30a3b5e3-3d4f-4573-e411-595a8b1aa3dc"
      },
      "source": [
        "# resumo estatístico das variáveis numéricas\n",
        "df[columns_num].describe()"
      ],
      "execution_count": 183,
      "outputs": [
        {
          "output_type": "execute_result",
          "data": {
            "text/html": [
              "<div>\n",
              "<style scoped>\n",
              "    .dataframe tbody tr th:only-of-type {\n",
              "        vertical-align: middle;\n",
              "    }\n",
              "\n",
              "    .dataframe tbody tr th {\n",
              "        vertical-align: top;\n",
              "    }\n",
              "\n",
              "    .dataframe thead th {\n",
              "        text-align: right;\n",
              "    }\n",
              "</style>\n",
              "<table border=\"1\" class=\"dataframe\">\n",
              "  <thead>\n",
              "    <tr style=\"text-align: right;\">\n",
              "      <th></th>\n",
              "      <th>latitude</th>\n",
              "      <th>longitude</th>\n",
              "      <th>price</th>\n",
              "      <th>minimum_nights</th>\n",
              "      <th>number_of_reviews</th>\n",
              "      <th>reviews_per_month</th>\n",
              "      <th>calculated_host_listings_count</th>\n",
              "      <th>availability_365</th>\n",
              "      <th>number_of_reviews_ltm</th>\n",
              "    </tr>\n",
              "  </thead>\n",
              "  <tbody>\n",
              "    <tr>\n",
              "      <th>count</th>\n",
              "      <td>7370.000000</td>\n",
              "      <td>7370.000000</td>\n",
              "      <td>7370.000000</td>\n",
              "      <td>7370.000000</td>\n",
              "      <td>7370.000000</td>\n",
              "      <td>7370.000000</td>\n",
              "      <td>7370.000000</td>\n",
              "      <td>7370.000000</td>\n",
              "      <td>7370.000000</td>\n",
              "    </tr>\n",
              "    <tr>\n",
              "      <th>mean</th>\n",
              "      <td>45.444376</td>\n",
              "      <td>12.320997</td>\n",
              "      <td>138.226323</td>\n",
              "      <td>2.458345</td>\n",
              "      <td>63.365129</td>\n",
              "      <td>1.631442</td>\n",
              "      <td>10.413840</td>\n",
              "      <td>217.012890</td>\n",
              "      <td>7.358480</td>\n",
              "    </tr>\n",
              "    <tr>\n",
              "      <th>std</th>\n",
              "      <td>0.023370</td>\n",
              "      <td>0.039068</td>\n",
              "      <td>265.954523</td>\n",
              "      <td>8.497872</td>\n",
              "      <td>91.785263</td>\n",
              "      <td>1.609431</td>\n",
              "      <td>22.540107</td>\n",
              "      <td>132.458323</td>\n",
              "      <td>12.506136</td>\n",
              "    </tr>\n",
              "    <tr>\n",
              "      <th>min</th>\n",
              "      <td>45.274390</td>\n",
              "      <td>12.173216</td>\n",
              "      <td>0.000000</td>\n",
              "      <td>1.000000</td>\n",
              "      <td>0.000000</td>\n",
              "      <td>0.010000</td>\n",
              "      <td>1.000000</td>\n",
              "      <td>0.000000</td>\n",
              "      <td>0.000000</td>\n",
              "    </tr>\n",
              "    <tr>\n",
              "      <th>25%</th>\n",
              "      <td>45.434213</td>\n",
              "      <td>12.323552</td>\n",
              "      <td>71.000000</td>\n",
              "      <td>1.000000</td>\n",
              "      <td>4.000000</td>\n",
              "      <td>0.550000</td>\n",
              "      <td>1.000000</td>\n",
              "      <td>89.000000</td>\n",
              "      <td>0.000000</td>\n",
              "    </tr>\n",
              "    <tr>\n",
              "      <th>50%</th>\n",
              "      <td>45.438080</td>\n",
              "      <td>12.331470</td>\n",
              "      <td>100.000000</td>\n",
              "      <td>2.000000</td>\n",
              "      <td>24.000000</td>\n",
              "      <td>1.200000</td>\n",
              "      <td>3.000000</td>\n",
              "      <td>267.000000</td>\n",
              "      <td>2.000000</td>\n",
              "    </tr>\n",
              "    <tr>\n",
              "      <th>75%</th>\n",
              "      <td>45.444120</td>\n",
              "      <td>12.340012</td>\n",
              "      <td>145.000000</td>\n",
              "      <td>3.000000</td>\n",
              "      <td>86.000000</td>\n",
              "      <td>2.170000</td>\n",
              "      <td>7.000000</td>\n",
              "      <td>338.000000</td>\n",
              "      <td>10.000000</td>\n",
              "    </tr>\n",
              "    <tr>\n",
              "      <th>max</th>\n",
              "      <td>45.537350</td>\n",
              "      <td>12.421370</td>\n",
              "      <td>9999.000000</td>\n",
              "      <td>400.000000</td>\n",
              "      <td>765.000000</td>\n",
              "      <td>27.500000</td>\n",
              "      <td>132.000000</td>\n",
              "      <td>365.000000</td>\n",
              "      <td>387.000000</td>\n",
              "    </tr>\n",
              "  </tbody>\n",
              "</table>\n",
              "</div>"
            ],
            "text/plain": [
              "          latitude    longitude  ...  availability_365  number_of_reviews_ltm\n",
              "count  7370.000000  7370.000000  ...       7370.000000            7370.000000\n",
              "mean     45.444376    12.320997  ...        217.012890               7.358480\n",
              "std       0.023370     0.039068  ...        132.458323              12.506136\n",
              "min      45.274390    12.173216  ...          0.000000               0.000000\n",
              "25%      45.434213    12.323552  ...         89.000000               0.000000\n",
              "50%      45.438080    12.331470  ...        267.000000               2.000000\n",
              "75%      45.444120    12.340012  ...        338.000000              10.000000\n",
              "max      45.537350    12.421370  ...        365.000000             387.000000\n",
              "\n",
              "[8 rows x 9 columns]"
            ]
          },
          "metadata": {},
          "execution_count": 183
        }
      ]
    },
    {
      "cell_type": "markdown",
      "metadata": {
        "id": "RWg2ns6zWvkF"
      },
      "source": [
        "Pela distribuição do histograma e com base nos dados estatísticos, percebe-se indícios da presença de *outliers*. Por exemplo:\n",
        "* A variável `minimum_nights` possui 75% do valor entre 3 noites, porém seu valor máximo é de 400 (1 anos e 35 dias).\n",
        "* A variável `price` tem valor mínimo em 0, esta variável representa o preço para alugar o imóvel. Apresentando 75% dos valores abaixo de 145 e com valor máximo estando em 9999.\n",
        "\n"
      ]
    },
    {
      "cell_type": "code",
      "metadata": {
        "colab": {
          "base_uri": "https://localhost:8080/",
          "height": 1000
        },
        "id": "6XuYWqT2uh9R",
        "outputId": "d2f5d24f-b7d7-44ee-aa94-e6353ad4d2f3"
      },
      "source": [
        "# boxplot das variáveis numéricas\n",
        "for col in columns_num: \n",
        "    plt.figure()  \n",
        "    df[col].plot(kind='box', figsize=(10, 5)) \n",
        "  "
      ],
      "execution_count": 184,
      "outputs": [
        {
          "output_type": "display_data",
          "data": {
            "image/png": "[encoded data removed]",
            "text/plain": [
              "<Figure size 720x360 with 1 Axes>"
            ]
          },
          "metadata": {
            "needs_background": "light"
          }
        },
        {
          "output_type": "display_data",
          "data": {
            "image/png": "[encoded data removed]",
            "text/plain": [
              "<Figure size 720x360 with 1 Axes>"
            ]
          },
          "metadata": {
            "needs_background": "light"
          }
        },
        {
          "output_type": "display_data",
          "data": {
            "image/png": "[encoded data removed]",
            "text/plain": [
              "<Figure size 720x360 with 1 Axes>"
            ]
          },
          "metadata": {
            "needs_background": "light"
          }
        },
        {
          "output_type": "display_data",
          "data": {
            "image/png": "[encoded data removed]",
            "text/plain": [
              "<Figure size 720x360 with 1 Axes>"
            ]
          },
          "metadata": {
            "needs_background": "light"
          }
        },
        {
          "output_type": "display_data",
          "data": {
            "image/png": "[encoded data removed]",
            "text/plain": [
              "<Figure size 720x360 with 1 Axes>"
            ]
          },
          "metadata": {
            "needs_background": "light"
          }
        },
        {
          "output_type": "display_data",
          "data": {
            "image/png": "[encoded data removed]",
            "text/plain": [
              "<Figure size 720x360 with 1 Axes>"
            ]
          },
          "metadata": {
            "needs_background": "light"
          }
        },
        {
          "output_type": "display_data",
          "data": {
            "image/png": "[encoded data removed]",
            "text/plain": [
              "<Figure size 720x360 with 1 Axes>"
            ]
          },
          "metadata": {
            "needs_background": "light"
          }
        },
        {
          "output_type": "display_data",
          "data": {
            "image/png": "[encoded data removed]",
            "text/plain": [
              "<Figure size 720x360 with 1 Axes>"
            ]
          },
          "metadata": {
            "needs_background": "light"
          }
        },
        {
          "output_type": "display_data",
          "data": {
            "image/png": "[encoded data removed]",
            "text/plain": [
              "<Figure size 720x360 with 1 Axes>"
            ]
          },
          "metadata": {
            "needs_background": "light"
          }
        }
      ]
    },
    {
      "cell_type": "code",
      "metadata": {
        "colab": {
          "base_uri": "https://localhost:8080/"
        },
        "id": "G5Rlz1IFZUii",
        "outputId": "535e74e9-bc24-4bc8-e44e-3c4d7c819679"
      },
      "source": [
        "# ver quantidade dos valores para cada coluna com outlier\n",
        "print(\"minimum_nights: valores acima de 30 dias:\")\n",
        "print(\"{} entradas\".format(len(df[df.minimum_nights > 30])))\n",
        "print(\"{:.4f}%\\n\\n\".format((len(df[df.minimum_nights > 30]) / df.shape[0])*100))\n",
        "\n",
        "print(\"price: valores acima de 2000:\")\n",
        "print(\"{} entradas\".format(len(df[df.price> 2000])))\n",
        "print(\"{:.4f}%\".format((len(df[df.price > 2000]) / df.shape[0])*100))"
      ],
      "execution_count": 185,
      "outputs": [
        {
          "output_type": "stream",
          "name": "stdout",
          "text": [
            "minimum_nights: valores acima de 30 dias:\n",
            "12 entradas\n",
            "0.1628%\n",
            "\n",
            "\n",
            "price: valores acima de 2000:\n",
            "12 entradas\n",
            "0.1628%\n"
          ]
        }
      ]
    },
    {
      "cell_type": "markdown",
      "metadata": {
        "id": "IQIaGCI_dF7T"
      },
      "source": [
        "**Limpeza dos dados**\n",
        "\n",
        "Remoção dos *outliers* pelo Intervalo Interquartil:\n",
        "\n",
        "* Definir o limite superior e inferior com base no terceiro e primeiro quartil, ou seja, valores fora deste intervalo serão considerados *outliers*."
      ]
    },
    {
      "cell_type": "markdown",
      "metadata": {
        "id": "iLSbrDcMiTeI"
      },
      "source": [
        "Para a variável `price` será utilizado o limite inferior igual a zero, pois não existe um preço para locação negativo. "
      ]
    },
    {
      "cell_type": "code",
      "metadata": {
        "colab": {
          "base_uri": "https://localhost:8080/"
        },
        "id": "vYwbjEKXgKIS",
        "outputId": "c557dcfc-73ba-441f-b71c-c7b28575d2fd"
      },
      "source": [
        "# definindo os limites para a variável price\n",
        "Q1 = df.price.quantile(.25)\n",
        "Q3 = df.price.quantile(.75)\n",
        "IQR = Q3 - Q1\n",
        "sup_price = Q3 + 1.5 * IQR\n",
        "inf_price = Q1 - 1.5 * IQR\n",
        "print('Limite superior de price: {}'.format(sup_price))\n",
        "print('Limite iferior de price: {}\\n\\n'.format(inf_price))\n",
        "\n",
        "# definindo os limites para a variável minimum_nights\n",
        "Q1 = df.minimum_nights.quantile(.25)\n",
        "Q3 = df.minimum_nights.quantile(.75)\n",
        "IQR = Q3 - Q1\n",
        "sup_nights = Q3 + 1.5 * IQR\n",
        "print('Limite superior de minimum_nights: {}'.format(sup_nights))"
      ],
      "execution_count": 186,
      "outputs": [
        {
          "output_type": "stream",
          "name": "stdout",
          "text": [
            "Limite superior de price: 256.0\n",
            "Limite iferior de price: -40.0\n",
            "\n",
            "\n",
            "Limite superior de minimum_nights: 6.0\n"
          ]
        }
      ]
    },
    {
      "cell_type": "markdown",
      "metadata": {
        "id": "r_u0pFqAkAKM"
      },
      "source": [
        "Para a variavél `minimum_nights` será utilizado o limite arbitrário, visto que podem ocorrer de uma pessoa locar um imovel por mais de 6 noites."
      ]
    },
    {
      "cell_type": "code",
      "metadata": {
        "colab": {
          "base_uri": "https://localhost:8080/"
        },
        "id": "CNlTKLlmhtMO",
        "outputId": "64c0913a-45f9-48d7-e279-11311a88cc6a"
      },
      "source": [
        "# limpando o dataset\n",
        "df_clean = df.copy()\n",
        "\n",
        "df_clean.drop(df_clean[df_clean.price > 2000].index, axis=0, inplace=True)\n",
        "df_clean.drop(df_clean[df_clean.price == 0.0].index, axis=0, inplace=True)\n",
        "df_clean.drop(df_clean[df_clean.minimum_nights >30].index, axis=0, inplace=True)\n",
        "\n",
        "print(f'Dataset antes da limpeza: {df.shape[0]}')\n",
        "print(f'Dataset após da limpeza: {df_clean.shape[0]}')\n",
        "print(f'Os outlies eliminados representam {((df.shape[0] - df_clean.shape[0]) / df.shape[0] * 100):.2f}% do dataset')"
      ],
      "execution_count": 187,
      "outputs": [
        {
          "output_type": "stream",
          "name": "stdout",
          "text": [
            "Dataset antes da limpeza: 7370\n",
            "Dataset após da limpeza: 7343\n",
            "Os outlies eliminados representam 0.37% do dataset\n"
          ]
        }
      ]
    },
    {
      "cell_type": "markdown",
      "metadata": {
        "id": "qb5By2nIMS6m"
      },
      "source": [
        "\n",
        "## Análise dos Dados\n",
        "-----\n",
        "Com os dados devidamente tratados chegou a hora de extrair as principais características e informações presentes nesses dados.\n"
      ]
    },
    {
      "cell_type": "markdown",
      "metadata": {
        "id": "0F3nxh9ImBve"
      },
      "source": [
        "**Correlação existente entre as variáveis**\n"
      ]
    },
    {
      "cell_type": "code",
      "metadata": {
        "colab": {
          "base_uri": "https://localhost:8080/",
          "height": 352
        },
        "id": "HGRfo6lOmdy7",
        "outputId": "e0dca1a8-6ade-47a3-e243-954bfd5a6ea5"
      },
      "source": [
        "# criar uma matriz de correlação\n",
        "corr = df_clean[columns_num].corr()\n",
        "\n",
        "display(corr)"
      ],
      "execution_count": 188,
      "outputs": [
        {
          "output_type": "display_data",
          "data": {
            "text/html": [
              "<div>\n",
              "<style scoped>\n",
              "    .dataframe tbody tr th:only-of-type {\n",
              "        vertical-align: middle;\n",
              "    }\n",
              "\n",
              "    .dataframe tbody tr th {\n",
              "        vertical-align: top;\n",
              "    }\n",
              "\n",
              "    .dataframe thead th {\n",
              "        text-align: right;\n",
              "    }\n",
              "</style>\n",
              "<table border=\"1\" class=\"dataframe\">\n",
              "  <thead>\n",
              "    <tr style=\"text-align: right;\">\n",
              "      <th></th>\n",
              "      <th>latitude</th>\n",
              "      <th>longitude</th>\n",
              "      <th>price</th>\n",
              "      <th>minimum_nights</th>\n",
              "      <th>number_of_reviews</th>\n",
              "      <th>reviews_per_month</th>\n",
              "      <th>calculated_host_listings_count</th>\n",
              "      <th>availability_365</th>\n",
              "      <th>number_of_reviews_ltm</th>\n",
              "    </tr>\n",
              "  </thead>\n",
              "  <tbody>\n",
              "    <tr>\n",
              "      <th>latitude</th>\n",
              "      <td>1.000000</td>\n",
              "      <td>-0.772175</td>\n",
              "      <td>-0.216012</td>\n",
              "      <td>-0.101204</td>\n",
              "      <td>0.038760</td>\n",
              "      <td>0.058171</td>\n",
              "      <td>-0.062507</td>\n",
              "      <td>-0.008647</td>\n",
              "      <td>0.000946</td>\n",
              "    </tr>\n",
              "    <tr>\n",
              "      <th>longitude</th>\n",
              "      <td>-0.772175</td>\n",
              "      <td>1.000000</td>\n",
              "      <td>0.203483</td>\n",
              "      <td>0.080487</td>\n",
              "      <td>-0.027113</td>\n",
              "      <td>-0.055234</td>\n",
              "      <td>0.050692</td>\n",
              "      <td>0.041304</td>\n",
              "      <td>0.010784</td>\n",
              "    </tr>\n",
              "    <tr>\n",
              "      <th>price</th>\n",
              "      <td>-0.216012</td>\n",
              "      <td>0.203483</td>\n",
              "      <td>1.000000</td>\n",
              "      <td>0.042883</td>\n",
              "      <td>-0.150428</td>\n",
              "      <td>-0.152705</td>\n",
              "      <td>0.148620</td>\n",
              "      <td>0.057081</td>\n",
              "      <td>-0.148142</td>\n",
              "    </tr>\n",
              "    <tr>\n",
              "      <th>minimum_nights</th>\n",
              "      <td>-0.101204</td>\n",
              "      <td>0.080487</td>\n",
              "      <td>0.042883</td>\n",
              "      <td>1.000000</td>\n",
              "      <td>-0.036962</td>\n",
              "      <td>-0.088829</td>\n",
              "      <td>-0.040073</td>\n",
              "      <td>-0.035195</td>\n",
              "      <td>-0.087384</td>\n",
              "    </tr>\n",
              "    <tr>\n",
              "      <th>number_of_reviews</th>\n",
              "      <td>0.038760</td>\n",
              "      <td>-0.027113</td>\n",
              "      <td>-0.150428</td>\n",
              "      <td>-0.036962</td>\n",
              "      <td>1.000000</td>\n",
              "      <td>0.628478</td>\n",
              "      <td>-0.157583</td>\n",
              "      <td>-0.000561</td>\n",
              "      <td>0.481606</td>\n",
              "    </tr>\n",
              "    <tr>\n",
              "      <th>reviews_per_month</th>\n",
              "      <td>0.058171</td>\n",
              "      <td>-0.055234</td>\n",
              "      <td>-0.152705</td>\n",
              "      <td>-0.088829</td>\n",
              "      <td>0.628478</td>\n",
              "      <td>1.000000</td>\n",
              "      <td>-0.128618</td>\n",
              "      <td>0.022739</td>\n",
              "      <td>0.696314</td>\n",
              "    </tr>\n",
              "    <tr>\n",
              "      <th>calculated_host_listings_count</th>\n",
              "      <td>-0.062507</td>\n",
              "      <td>0.050692</td>\n",
              "      <td>0.148620</td>\n",
              "      <td>-0.040073</td>\n",
              "      <td>-0.157583</td>\n",
              "      <td>-0.128618</td>\n",
              "      <td>1.000000</td>\n",
              "      <td>0.122963</td>\n",
              "      <td>-0.088092</td>\n",
              "    </tr>\n",
              "    <tr>\n",
              "      <th>availability_365</th>\n",
              "      <td>-0.008647</td>\n",
              "      <td>0.041304</td>\n",
              "      <td>0.057081</td>\n",
              "      <td>-0.035195</td>\n",
              "      <td>-0.000561</td>\n",
              "      <td>0.022739</td>\n",
              "      <td>0.122963</td>\n",
              "      <td>1.000000</td>\n",
              "      <td>0.079350</td>\n",
              "    </tr>\n",
              "    <tr>\n",
              "      <th>number_of_reviews_ltm</th>\n",
              "      <td>0.000946</td>\n",
              "      <td>0.010784</td>\n",
              "      <td>-0.148142</td>\n",
              "      <td>-0.087384</td>\n",
              "      <td>0.481606</td>\n",
              "      <td>0.696314</td>\n",
              "      <td>-0.088092</td>\n",
              "      <td>0.079350</td>\n",
              "      <td>1.000000</td>\n",
              "    </tr>\n",
              "  </tbody>\n",
              "</table>\n",
              "</div>"
            ],
            "text/plain": [
              "                                latitude  ...  number_of_reviews_ltm\n",
              "latitude                        1.000000  ...               0.000946\n",
              "longitude                      -0.772175  ...               0.010784\n",
              "price                          -0.216012  ...              -0.148142\n",
              "minimum_nights                 -0.101204  ...              -0.087384\n",
              "number_of_reviews               0.038760  ...               0.481606\n",
              "reviews_per_month               0.058171  ...               0.696314\n",
              "calculated_host_listings_count -0.062507  ...              -0.088092\n",
              "availability_365               -0.008647  ...               0.079350\n",
              "number_of_reviews_ltm           0.000946  ...               1.000000\n",
              "\n",
              "[9 rows x 9 columns]"
            ]
          },
          "metadata": {}
        }
      ]
    },
    {
      "cell_type": "code",
      "metadata": {
        "colab": {
          "base_uri": "https://localhost:8080/",
          "height": 411
        },
        "id": "ThW57H8Ym1ME",
        "outputId": "542e0243-8e21-48a4-c9e5-e41a2d7c6c90"
      },
      "source": [
        "sns.heatmap(corr, cmap='RdBu', fmt='.2f', square=True, linecolor='white', annot=True);"
      ],
      "execution_count": 189,
      "outputs": [
        {
          "output_type": "display_data",
          "data": {
            "image/png": "[encoded data removed]",
            "text/plain": [
              "<Figure size 432x288 with 2 Axes>"
            ]
          },
          "metadata": {
            "needs_background": "light"
          }
        }
      ]
    },
    {
      "cell_type": "markdown",
      "metadata": {
        "id": "Qz6TwPLHpdfs"
      },
      "source": [
        "Através do heatmap percebe-se que a `longitude` possui uma correlação positiva com `price`, isto significa que o preço tende a aumentar conforme a longitude, o inverso acontece com a `latide` que possui uma correlação negativa. O gráfico mostrou também que há correlação entre as variáveis `number_of_reviews`, `number_of_reviews_ltm` e `reviews_per_month`,visto que ambas as variáveis mostram a quantidade de reviews das acomodações. "
      ]
    },
    {
      "cell_type": "markdown",
      "metadata": {
        "id": "7x4aw1j5wNmn"
      },
      "source": [
        "**Tipo de imóvel mais alugado no Airbnb da Itália**"
      ]
    },
    {
      "cell_type": "code",
      "metadata": {
        "colab": {
          "base_uri": "https://localhost:8080/",
          "height": 322
        },
        "id": "t_gEEkdSTos5",
        "outputId": "a6117f86-fba2-4576-f31f-9cf3db94a954"
      },
      "source": [
        "# gráfico de barras tipo de imóveis \n",
        "df_room_type = df_clean.room_type.value_counts(ascending=True)\n",
        "ax = df_room_type.plot.barh()\n",
        "plt.title('Número de Imóveis X Tipo', fontsize=18)\n",
        "plt.xlabel('Numéro de Imóveis', fontsize=15)\n",
        "plt.ylabel('Tipo de Imóvel', fontsize=15)\n"
      ],
      "execution_count": 190,
      "outputs": [
        {
          "output_type": "execute_result",
          "data": {
            "text/plain": [
              "Text(0, 0.5, 'Tipo de Imóvel')"
            ]
          },
          "metadata": {},
          "execution_count": 190
        },
        {
          "output_type": "display_data",
          "data": {
            "image/png": "[encoded data removed]",
            "text/plain": [
              "<Figure size 432x288 with 1 Axes>"
            ]
          },
          "metadata": {
            "needs_background": "light"
          }
        }
      ]
    },
    {
      "cell_type": "code",
      "metadata": {
        "colab": {
          "base_uri": "https://localhost:8080/"
        },
        "id": "VN_C9xfouhPW",
        "outputId": "b12ed27f-c1ec-4f75-be09-c9511c2c6389"
      },
      "source": [
        "# mostrar a porcentagem de cada tipo de imóvel disponível\n",
        "df_clean.room_type.value_counts() / df_clean.shape[0]"
      ],
      "execution_count": 191,
      "outputs": [
        {
          "output_type": "execute_result",
          "data": {
            "text/plain": [
              "Entire home/apt    0.770530\n",
              "Private room       0.197739\n",
              "Hotel room         0.027918\n",
              "Shared room        0.003813\n",
              "Name: room_type, dtype: float64"
            ]
          },
          "metadata": {},
          "execution_count": 191
        }
      ]
    },
    {
      "cell_type": "code",
      "metadata": {
        "colab": {
          "base_uri": "https://localhost:8080/"
        },
        "id": "eIeIvLnKq32y",
        "outputId": "42eb914b-bb91-4212-ac3e-2eec0a3832d6"
      },
      "source": [
        "# preço por tipo de imóveis \n",
        "df_clean.groupby(['room_type']).price.mean().sort_values(ascending= False)"
      ],
      "execution_count": 192,
      "outputs": [
        {
          "output_type": "execute_result",
          "data": {
            "text/plain": [
              "room_type\n",
              "Entire home/apt    141.403499\n",
              "Hotel room         135.326829\n",
              "Private room        86.473829\n",
              "Shared room         45.500000\n",
              "Name: price, dtype: float64"
            ]
          },
          "metadata": {},
          "execution_count": 192
        }
      ]
    },
    {
      "cell_type": "markdown",
      "metadata": {
        "id": "4S-1Zfhevs0C"
      },
      "source": [
        "O Airbnb oferece quatro categorias de imóvel em Veneza:\n",
        "\n",
        "* Casa/Apartamento inteiro - 76,16%\n",
        "* Quarto Privado - 20,67%\n",
        "*  Quarto de Hotel - 2,76%\n",
        "* Quarto Compartilhado - 0,41%\n",
        "\n",
        "Logo chega-se a conclusão que em uma viagem para Veneza com a intenção de se hospedar em um quarto compartilhado seriam poucas opções disponivéis no Airbnb."
      ]
    },
    {
      "cell_type": "markdown",
      "metadata": {
        "id": "91EBRQbAooKs"
      },
      "source": [
        "**Localização em Veneza**"
      ]
    },
    {
      "cell_type": "code",
      "metadata": {
        "colab": {
          "base_uri": "https://localhost:8080/"
        },
        "id": "x1DLu3gzePyl",
        "outputId": "c76818e2-cc25-4c47-8d23-594987e07a22"
      },
      "source": [
        "# 10 regiões com maior número de anúncios\n",
        "df_size=df_clean.groupby('neighbourhood').size().sort_values(ascending = False)\n",
        "df_size[:10]"
      ],
      "execution_count": 193,
      "outputs": [
        {
          "output_type": "execute_result",
          "data": {
            "text/plain": [
              "neighbourhood\n",
              "Cannaregio                1427\n",
              "Castello                  1403\n",
              "San Marco                  944\n",
              "San Polo                   567\n",
              "Santa Croce                554\n",
              "Dorsoduro                  554\n",
              "Piave 1860                 481\n",
              "Lido                       330\n",
              "San Lorenzo XXV Aprile     147\n",
              "Marghera                   130\n",
              "dtype: int64"
            ]
          },
          "metadata": {},
          "execution_count": 193
        }
      ]
    },
    {
      "cell_type": "markdown",
      "metadata": {
        "id": "wdBH3tIHfQxj"
      },
      "source": [
        "As regiões - *Cannaregio, Castello e San Marco* - com maior anúncios são localizadas no centro da ilha e possuem pontos turísticos.\n",
        "<center><img width=\"50%\" src=\"https://h8f7z4t2.stackpathcdn.com/wp-content/uploads/2016/03/veneza_revistaviagem_mapa-2.jpg\"><center>"
      ]
    },
    {
      "cell_type": "code",
      "metadata": {
        "colab": {
          "base_uri": "https://localhost:8080/"
        },
        "id": "c1cCsewOmyj4",
        "outputId": "61fd0c00-1074-4954-aba2-cbe1812752fe"
      },
      "source": [
        "# 10 regiões com maior número de reviews\n",
        "df_reviews=df_clean.groupby(['neighbourhood']).number_of_reviews.sum().sort_values(ascending=False)\n",
        "df_reviews[:10]"
      ],
      "execution_count": 194,
      "outputs": [
        {
          "output_type": "execute_result",
          "data": {
            "text/plain": [
              "neighbourhood\n",
              "Cannaregio                105743\n",
              "Castello                   87733\n",
              "San Marco                  58082\n",
              "Santa Croce                38350\n",
              "Dorsoduro                  38102\n",
              "San Polo                   37392\n",
              "Piave 1860                 30916\n",
              "Marghera                   11627\n",
              "Lido                        8658\n",
              "San Lorenzo XXV Aprile      8120\n",
              "Name: number_of_reviews, dtype: int64"
            ]
          },
          "metadata": {},
          "execution_count": 194
        }
      ]
    },
    {
      "cell_type": "code",
      "metadata": {
        "colab": {
          "base_uri": "https://localhost:8080/"
        },
        "id": "4yzJEC0raVRI",
        "outputId": "77954c1c-8548-4801-c8e6-b96072f6f854"
      },
      "source": [
        "# preço medio de Veneza\n",
        "print('Preço medio para se hospedar em veneza: {:.2f}\\n\\n'.format(df_clean.price.mean()))\n",
        "\n",
        "# preço medio por regiao\n",
        "print('Regiões mais caras:')\n",
        "df_price=df_clean.groupby(['neighbourhood']).price.mean().sort_values(ascending=False)\n",
        "print(df_price[:5])\n",
        "\n",
        "print('\\n\\nRegiões mais baratas:')\n",
        "print(df_price[-5:].sort_values(ascending=True))"
      ],
      "execution_count": 195,
      "outputs": [
        {
          "output_type": "stream",
          "name": "stdout",
          "text": [
            "Preço medio para se hospedar em veneza: 130.01\n",
            "\n",
            "\n",
            "Regiões mais caras:\n",
            "neighbourhood\n",
            "Alberoni             206.314286\n",
            "Isola San Giorgio    200.000000\n",
            "San Marco            185.911017\n",
            "Tronchetto           176.750000\n",
            "San Polo             156.449735\n",
            "Name: price, dtype: float64\n",
            "\n",
            "\n",
            "Regiões mais baratas:\n",
            "neighbourhood\n",
            "Giustizia       30.000000\n",
            "Malcontenta     42.500000\n",
            "Torre Antica    45.000000\n",
            "Cipressina      49.000000\n",
            "Zelarino        49.666667\n",
            "Name: price, dtype: float64\n"
          ]
        }
      ]
    },
    {
      "cell_type": "code",
      "metadata": {
        "colab": {
          "base_uri": "https://localhost:8080/"
        },
        "id": "lOoOSqF6mea4",
        "outputId": "b672448c-c05c-4fa5-ac3e-b490fade03d7"
      },
      "source": [
        "# tipo de imovel por região\n",
        "df_type=df_clean.groupby(['room_type']).neighbourhood.value_counts(ascending=False)\n",
        "for x in df_clean.room_type.unique():\n",
        "  print(x,'\\n',df_type[x][:5],'\\n')\n",
        "  "
      ],
      "execution_count": 196,
      "outputs": [
        {
          "output_type": "stream",
          "name": "stdout",
          "text": [
            "Entire home/apt \n",
            " neighbourhood\n",
            "Castello      1183\n",
            "Cannaregio    1099\n",
            "San Marco      780\n",
            "San Polo       477\n",
            "Dorsoduro      470\n",
            "Name: neighbourhood, dtype: int64 \n",
            "\n",
            "Private room \n",
            " neighbourhood\n",
            "Cannaregio     281\n",
            "Piave 1860     232\n",
            "Castello       183\n",
            "Santa Croce    126\n",
            "San Marco      117\n",
            "Name: neighbourhood, dtype: int64 \n",
            "\n",
            "Hotel room \n",
            " neighbourhood\n",
            "Cannaregio    45\n",
            "San Marco     45\n",
            "Castello      32\n",
            "Piave 1860    16\n",
            "Dorsoduro     12\n",
            "Name: neighbourhood, dtype: int64 \n",
            "\n",
            "Shared room \n",
            " neighbourhood\n",
            "Castello      5\n",
            "Marghera      3\n",
            "Piave 1860    3\n",
            "Cannaregio    2\n",
            "Dorsoduro     2\n",
            "Name: neighbourhood, dtype: int64 \n",
            "\n"
          ]
        }
      ]
    },
    {
      "cell_type": "code",
      "metadata": {
        "colab": {
          "base_uri": "https://localhost:8080/",
          "height": 1000
        },
        "id": "T5Vce3NLjycd",
        "outputId": "549cdcaf-0c36-455b-e068-4a81a2d3e8f1"
      },
      "source": [
        "# comparando os dados\n",
        "df_comp=pd.concat([df_price, df_reviews, df_size], axis=1)\n",
        "df_comp.columns=['Preço','Reviews','Quantidade de Imóveis']\n",
        "df_comp.sort_values(by=['Preço','Quantidade de Imóveis', 'Reviews'],ascending=False)"
      ],
      "execution_count": 208,
      "outputs": [
        {
          "output_type": "execute_result",
          "data": {
            "text/html": [
              "<div>\n",
              "<style scoped>\n",
              "    .dataframe tbody tr th:only-of-type {\n",
              "        vertical-align: middle;\n",
              "    }\n",
              "\n",
              "    .dataframe tbody tr th {\n",
              "        vertical-align: top;\n",
              "    }\n",
              "\n",
              "    .dataframe thead th {\n",
              "        text-align: right;\n",
              "    }\n",
              "</style>\n",
              "<table border=\"1\" class=\"dataframe\">\n",
              "  <thead>\n",
              "    <tr style=\"text-align: right;\">\n",
              "      <th></th>\n",
              "      <th>Preço</th>\n",
              "      <th>Reviews</th>\n",
              "      <th>Quantidade de Imóveis</th>\n",
              "    </tr>\n",
              "  </thead>\n",
              "  <tbody>\n",
              "    <tr>\n",
              "      <th>Alberoni</th>\n",
              "      <td>206.314286</td>\n",
              "      <td>99</td>\n",
              "      <td>35</td>\n",
              "    </tr>\n",
              "    <tr>\n",
              "      <th>Isola San Giorgio</th>\n",
              "      <td>200.000000</td>\n",
              "      <td>0</td>\n",
              "      <td>1</td>\n",
              "    </tr>\n",
              "    <tr>\n",
              "      <th>San Marco</th>\n",
              "      <td>185.911017</td>\n",
              "      <td>58082</td>\n",
              "      <td>944</td>\n",
              "    </tr>\n",
              "    <tr>\n",
              "      <th>Tronchetto</th>\n",
              "      <td>176.750000</td>\n",
              "      <td>26</td>\n",
              "      <td>4</td>\n",
              "    </tr>\n",
              "    <tr>\n",
              "      <th>San Polo</th>\n",
              "      <td>156.449735</td>\n",
              "      <td>37392</td>\n",
              "      <td>567</td>\n",
              "    </tr>\n",
              "    <tr>\n",
              "      <th>Dorsoduro</th>\n",
              "      <td>156.021661</td>\n",
              "      <td>38102</td>\n",
              "      <td>554</td>\n",
              "    </tr>\n",
              "    <tr>\n",
              "      <th>Lido</th>\n",
              "      <td>140.021212</td>\n",
              "      <td>8658</td>\n",
              "      <td>330</td>\n",
              "    </tr>\n",
              "    <tr>\n",
              "      <th>Torcello</th>\n",
              "      <td>140.000000</td>\n",
              "      <td>62</td>\n",
              "      <td>2</td>\n",
              "    </tr>\n",
              "    <tr>\n",
              "      <th>Villabona</th>\n",
              "      <td>138.800000</td>\n",
              "      <td>30</td>\n",
              "      <td>5</td>\n",
              "    </tr>\n",
              "    <tr>\n",
              "      <th>Castello</th>\n",
              "      <td>135.443336</td>\n",
              "      <td>87733</td>\n",
              "      <td>1403</td>\n",
              "    </tr>\n",
              "    <tr>\n",
              "      <th>Santa Croce</th>\n",
              "      <td>133.231047</td>\n",
              "      <td>38350</td>\n",
              "      <td>554</td>\n",
              "    </tr>\n",
              "    <tr>\n",
              "      <th>Giudecca</th>\n",
              "      <td>127.066667</td>\n",
              "      <td>6088</td>\n",
              "      <td>120</td>\n",
              "    </tr>\n",
              "    <tr>\n",
              "      <th>Case Dosa</th>\n",
              "      <td>125.000000</td>\n",
              "      <td>260</td>\n",
              "      <td>2</td>\n",
              "    </tr>\n",
              "    <tr>\n",
              "      <th>Cannaregio</th>\n",
              "      <td>121.234758</td>\n",
              "      <td>105743</td>\n",
              "      <td>1427</td>\n",
              "    </tr>\n",
              "    <tr>\n",
              "      <th>Burano</th>\n",
              "      <td>120.500000</td>\n",
              "      <td>721</td>\n",
              "      <td>20</td>\n",
              "    </tr>\n",
              "    <tr>\n",
              "      <th>Malamocco</th>\n",
              "      <td>115.733333</td>\n",
              "      <td>224</td>\n",
              "      <td>15</td>\n",
              "    </tr>\n",
              "    <tr>\n",
              "      <th>Ca' Emiliani</th>\n",
              "      <td>111.875000</td>\n",
              "      <td>196</td>\n",
              "      <td>8</td>\n",
              "    </tr>\n",
              "    <tr>\n",
              "      <th>Sant'Elena</th>\n",
              "      <td>110.166667</td>\n",
              "      <td>2825</td>\n",
              "      <td>48</td>\n",
              "    </tr>\n",
              "    <tr>\n",
              "      <th>Tessera</th>\n",
              "      <td>99.928571</td>\n",
              "      <td>917</td>\n",
              "      <td>28</td>\n",
              "    </tr>\n",
              "    <tr>\n",
              "      <th>Murano</th>\n",
              "      <td>98.756757</td>\n",
              "      <td>4027</td>\n",
              "      <td>74</td>\n",
              "    </tr>\n",
              "    <tr>\n",
              "      <th>San Pietro in Volta</th>\n",
              "      <td>97.500000</td>\n",
              "      <td>79</td>\n",
              "      <td>2</td>\n",
              "    </tr>\n",
              "    <tr>\n",
              "      <th>Pellestrina</th>\n",
              "      <td>97.000000</td>\n",
              "      <td>157</td>\n",
              "      <td>5</td>\n",
              "    </tr>\n",
              "    <tr>\n",
              "      <th>Mazzorbo</th>\n",
              "      <td>95.000000</td>\n",
              "      <td>14</td>\n",
              "      <td>1</td>\n",
              "    </tr>\n",
              "    <tr>\n",
              "      <th>Campalto</th>\n",
              "      <td>92.705882</td>\n",
              "      <td>465</td>\n",
              "      <td>17</td>\n",
              "    </tr>\n",
              "    <tr>\n",
              "      <th>Campalto Gobbi</th>\n",
              "      <td>91.000000</td>\n",
              "      <td>100</td>\n",
              "      <td>2</td>\n",
              "    </tr>\n",
              "    <tr>\n",
              "      <th>Altobello</th>\n",
              "      <td>84.903226</td>\n",
              "      <td>2156</td>\n",
              "      <td>31</td>\n",
              "    </tr>\n",
              "    <tr>\n",
              "      <th>Ca' Sabbioni</th>\n",
              "      <td>78.333333</td>\n",
              "      <td>75</td>\n",
              "      <td>3</td>\n",
              "    </tr>\n",
              "    <tr>\n",
              "      <th>Marghera Zona Industriale</th>\n",
              "      <td>77.888889</td>\n",
              "      <td>125</td>\n",
              "      <td>9</td>\n",
              "    </tr>\n",
              "    <tr>\n",
              "      <th>Aeroporto</th>\n",
              "      <td>77.875000</td>\n",
              "      <td>459</td>\n",
              "      <td>8</td>\n",
              "    </tr>\n",
              "    <tr>\n",
              "      <th>Marocco Terraglio</th>\n",
              "      <td>73.090909</td>\n",
              "      <td>271</td>\n",
              "      <td>11</td>\n",
              "    </tr>\n",
              "    <tr>\n",
              "      <th>Sacca Fisola</th>\n",
              "      <td>73.000000</td>\n",
              "      <td>51</td>\n",
              "      <td>2</td>\n",
              "    </tr>\n",
              "    <tr>\n",
              "      <th>Favaro</th>\n",
              "      <td>72.770833</td>\n",
              "      <td>2539</td>\n",
              "      <td>48</td>\n",
              "    </tr>\n",
              "    <tr>\n",
              "      <th>La Favorita</th>\n",
              "      <td>70.833333</td>\n",
              "      <td>270</td>\n",
              "      <td>6</td>\n",
              "    </tr>\n",
              "    <tr>\n",
              "      <th>Chirignago</th>\n",
              "      <td>70.233333</td>\n",
              "      <td>1756</td>\n",
              "      <td>30</td>\n",
              "    </tr>\n",
              "    <tr>\n",
              "      <th>Zona Commerciale via Torino</th>\n",
              "      <td>65.933333</td>\n",
              "      <td>705</td>\n",
              "      <td>15</td>\n",
              "    </tr>\n",
              "    <tr>\n",
              "      <th>San Lorenzo XXV Aprile</th>\n",
              "      <td>65.870748</td>\n",
              "      <td>8120</td>\n",
              "      <td>147</td>\n",
              "    </tr>\n",
              "    <tr>\n",
              "      <th>Dese</th>\n",
              "      <td>65.000000</td>\n",
              "      <td>0</td>\n",
              "      <td>1</td>\n",
              "    </tr>\n",
              "    <tr>\n",
              "      <th>Campalto CEP</th>\n",
              "      <td>63.500000</td>\n",
              "      <td>82</td>\n",
              "      <td>4</td>\n",
              "    </tr>\n",
              "    <tr>\n",
              "      <th>Piave 1860</th>\n",
              "      <td>61.530146</td>\n",
              "      <td>30916</td>\n",
              "      <td>481</td>\n",
              "    </tr>\n",
              "    <tr>\n",
              "      <th>Carpenedo</th>\n",
              "      <td>61.500000</td>\n",
              "      <td>4426</td>\n",
              "      <td>76</td>\n",
              "    </tr>\n",
              "    <tr>\n",
              "      <th>Villaggio Sartori</th>\n",
              "      <td>59.500000</td>\n",
              "      <td>227</td>\n",
              "      <td>2</td>\n",
              "    </tr>\n",
              "    <tr>\n",
              "      <th>Gazzera</th>\n",
              "      <td>58.789474</td>\n",
              "      <td>1002</td>\n",
              "      <td>19</td>\n",
              "    </tr>\n",
              "    <tr>\n",
              "      <th>Sant'Erasmo</th>\n",
              "      <td>58.285714</td>\n",
              "      <td>630</td>\n",
              "      <td>7</td>\n",
              "    </tr>\n",
              "    <tr>\n",
              "      <th>Pra' Secco</th>\n",
              "      <td>58.000000</td>\n",
              "      <td>220</td>\n",
              "      <td>1</td>\n",
              "    </tr>\n",
              "    <tr>\n",
              "      <th>Villaggio San Marco</th>\n",
              "      <td>57.440000</td>\n",
              "      <td>3258</td>\n",
              "      <td>25</td>\n",
              "    </tr>\n",
              "    <tr>\n",
              "      <th>Marghera</th>\n",
              "      <td>56.792308</td>\n",
              "      <td>11627</td>\n",
              "      <td>130</td>\n",
              "    </tr>\n",
              "    <tr>\n",
              "      <th>Santa Barbara</th>\n",
              "      <td>56.500000</td>\n",
              "      <td>981</td>\n",
              "      <td>14</td>\n",
              "    </tr>\n",
              "    <tr>\n",
              "      <th>Bissuola</th>\n",
              "      <td>56.391304</td>\n",
              "      <td>2303</td>\n",
              "      <td>46</td>\n",
              "    </tr>\n",
              "    <tr>\n",
              "      <th>Marghera Catene</th>\n",
              "      <td>53.352941</td>\n",
              "      <td>2985</td>\n",
              "      <td>34</td>\n",
              "    </tr>\n",
              "    <tr>\n",
              "      <th>Quartiere Pertini</th>\n",
              "      <td>53.000000</td>\n",
              "      <td>36</td>\n",
              "      <td>2</td>\n",
              "    </tr>\n",
              "    <tr>\n",
              "      <th>Gatta - Bondu?</th>\n",
              "      <td>52.500000</td>\n",
              "      <td>127</td>\n",
              "      <td>2</td>\n",
              "    </tr>\n",
              "    <tr>\n",
              "      <th>Ca' Brentelle</th>\n",
              "      <td>52.500000</td>\n",
              "      <td>59</td>\n",
              "      <td>2</td>\n",
              "    </tr>\n",
              "    <tr>\n",
              "      <th>Campalto Bagaron</th>\n",
              "      <td>52.333333</td>\n",
              "      <td>223</td>\n",
              "      <td>6</td>\n",
              "    </tr>\n",
              "    <tr>\n",
              "      <th>Zelarino</th>\n",
              "      <td>49.666667</td>\n",
              "      <td>79</td>\n",
              "      <td>3</td>\n",
              "    </tr>\n",
              "    <tr>\n",
              "      <th>Cipressina</th>\n",
              "      <td>49.000000</td>\n",
              "      <td>547</td>\n",
              "      <td>6</td>\n",
              "    </tr>\n",
              "    <tr>\n",
              "      <th>Torre Antica</th>\n",
              "      <td>45.000000</td>\n",
              "      <td>10</td>\n",
              "      <td>1</td>\n",
              "    </tr>\n",
              "    <tr>\n",
              "      <th>Malcontenta</th>\n",
              "      <td>42.500000</td>\n",
              "      <td>0</td>\n",
              "      <td>2</td>\n",
              "    </tr>\n",
              "    <tr>\n",
              "      <th>Giustizia</th>\n",
              "      <td>30.000000</td>\n",
              "      <td>1</td>\n",
              "      <td>1</td>\n",
              "    </tr>\n",
              "  </tbody>\n",
              "</table>\n",
              "</div>"
            ],
            "text/plain": [
              "                                  Preço  Reviews  Quantidade de Imóveis\n",
              "Alberoni                     206.314286       99                     35\n",
              "Isola San Giorgio            200.000000        0                      1\n",
              "San Marco                    185.911017    58082                    944\n",
              "Tronchetto                   176.750000       26                      4\n",
              "San Polo                     156.449735    37392                    567\n",
              "Dorsoduro                    156.021661    38102                    554\n",
              "Lido                         140.021212     8658                    330\n",
              "Torcello                     140.000000       62                      2\n",
              "Villabona                    138.800000       30                      5\n",
              "Castello                     135.443336    87733                   1403\n",
              "Santa Croce                  133.231047    38350                    554\n",
              "Giudecca                     127.066667     6088                    120\n",
              "Case Dosa                    125.000000      260                      2\n",
              "Cannaregio                   121.234758   105743                   1427\n",
              "Burano                       120.500000      721                     20\n",
              "Malamocco                    115.733333      224                     15\n",
              "Ca' Emiliani                 111.875000      196                      8\n",
              "Sant'Elena                   110.166667     2825                     48\n",
              "Tessera                       99.928571      917                     28\n",
              "Murano                        98.756757     4027                     74\n",
              "San Pietro in Volta           97.500000       79                      2\n",
              "Pellestrina                   97.000000      157                      5\n",
              "Mazzorbo                      95.000000       14                      1\n",
              "Campalto                      92.705882      465                     17\n",
              "Campalto Gobbi                91.000000      100                      2\n",
              "Altobello                     84.903226     2156                     31\n",
              "Ca' Sabbioni                  78.333333       75                      3\n",
              "Marghera Zona Industriale     77.888889      125                      9\n",
              "Aeroporto                     77.875000      459                      8\n",
              "Marocco Terraglio             73.090909      271                     11\n",
              "Sacca Fisola                  73.000000       51                      2\n",
              "Favaro                        72.770833     2539                     48\n",
              "La Favorita                   70.833333      270                      6\n",
              "Chirignago                    70.233333     1756                     30\n",
              "Zona Commerciale via Torino   65.933333      705                     15\n",
              "San Lorenzo XXV Aprile        65.870748     8120                    147\n",
              "Dese                          65.000000        0                      1\n",
              "Campalto CEP                  63.500000       82                      4\n",
              "Piave 1860                    61.530146    30916                    481\n",
              "Carpenedo                     61.500000     4426                     76\n",
              "Villaggio Sartori             59.500000      227                      2\n",
              "Gazzera                       58.789474     1002                     19\n",
              "Sant'Erasmo                   58.285714      630                      7\n",
              "Pra' Secco                    58.000000      220                      1\n",
              "Villaggio San Marco           57.440000     3258                     25\n",
              "Marghera                      56.792308    11627                    130\n",
              "Santa Barbara                 56.500000      981                     14\n",
              "Bissuola                      56.391304     2303                     46\n",
              "Marghera Catene               53.352941     2985                     34\n",
              "Quartiere Pertini             53.000000       36                      2\n",
              "Gatta - Bondu?                52.500000      127                      2\n",
              "Ca' Brentelle                 52.500000       59                      2\n",
              "Campalto Bagaron              52.333333      223                      6\n",
              "Zelarino                      49.666667       79                      3\n",
              "Cipressina                    49.000000      547                      6\n",
              "Torre Antica                  45.000000       10                      1\n",
              "Malcontenta                   42.500000        0                      2\n",
              "Giustizia                     30.000000        1                      1"
            ]
          },
          "metadata": {},
          "execution_count": 208
        }
      ]
    },
    {
      "cell_type": "markdown",
      "metadata": {
        "id": "W84MWFedhazQ"
      },
      "source": [
        "* Isola San Giorgio é uma das região mais cara da cidade,porem apresenta uma unica locação de uma casa/apartamento inteiro.\n",
        "* San Marco é uma das regiões com maiores anúncios e mais cara para se hospedar, contando com os quatros tipos de acomodação.\n",
        "* Castello e Cannaregio possuem preço médio de hospedagem próximo a média de Veneza, além de possuir diversas opções de acomodações.\n",
        "* Uma das regiões que possuem um preço mais baixo e está entre as 10 regiões com maior número de anúncios e acomodações é Marghera.\n"
      ]
    },
    {
      "cell_type": "code",
      "metadata": {
        "colab": {
          "base_uri": "https://localhost:8080/",
          "height": 363
        },
        "id": "HAyTvFoK9eZP",
        "outputId": "e167b197-69f4-40c0-d7ac-b88c3c3197bf"
      },
      "source": [
        "# nome acomodações mais caras\n",
        "df_clean[['name','neighbourhood','price','number_of_reviews']].sort_values(by=['price','number_of_reviews'],ascending=False)[:10]"
      ],
      "execution_count": 219,
      "outputs": [
        {
          "output_type": "execute_result",
          "data": {
            "text/html": [
              "<div>\n",
              "<style scoped>\n",
              "    .dataframe tbody tr th:only-of-type {\n",
              "        vertical-align: middle;\n",
              "    }\n",
              "\n",
              "    .dataframe tbody tr th {\n",
              "        vertical-align: top;\n",
              "    }\n",
              "\n",
              "    .dataframe thead th {\n",
              "        text-align: right;\n",
              "    }\n",
              "</style>\n",
              "<table border=\"1\" class=\"dataframe\">\n",
              "  <thead>\n",
              "    <tr style=\"text-align: right;\">\n",
              "      <th></th>\n",
              "      <th>name</th>\n",
              "      <th>neighbourhood</th>\n",
              "      <th>price</th>\n",
              "      <th>number_of_reviews</th>\n",
              "    </tr>\n",
              "  </thead>\n",
              "  <tbody>\n",
              "    <tr>\n",
              "      <th>134</th>\n",
              "      <td>Charming Apartment with gran canal view in Rialto</td>\n",
              "      <td>San Polo</td>\n",
              "      <td>2000</td>\n",
              "      <td>342</td>\n",
              "    </tr>\n",
              "    <tr>\n",
              "      <th>6576</th>\n",
              "      <td>Appealing Double Or Twin Run Of House At Venezia</td>\n",
              "      <td>San Marco</td>\n",
              "      <td>1861</td>\n",
              "      <td>0</td>\n",
              "    </tr>\n",
              "    <tr>\n",
              "      <th>5805</th>\n",
              "      <td>Celestina</td>\n",
              "      <td>San Polo</td>\n",
              "      <td>1767</td>\n",
              "      <td>1</td>\n",
              "    </tr>\n",
              "    <tr>\n",
              "      <th>3984</th>\n",
              "      <td>Capannone Redentore</td>\n",
              "      <td>Giudecca</td>\n",
              "      <td>1750</td>\n",
              "      <td>1</td>\n",
              "    </tr>\n",
              "    <tr>\n",
              "      <th>5807</th>\n",
              "      <td>Lena</td>\n",
              "      <td>Cannaregio</td>\n",
              "      <td>1575</td>\n",
              "      <td>4</td>\n",
              "    </tr>\n",
              "    <tr>\n",
              "      <th>5806</th>\n",
              "      <td>Imperiale</td>\n",
              "      <td>San Marco</td>\n",
              "      <td>1575</td>\n",
              "      <td>3</td>\n",
              "    </tr>\n",
              "    <tr>\n",
              "      <th>3249</th>\n",
              "      <td>Samarcanda House.Four steps from the Film Fest...</td>\n",
              "      <td>Lido</td>\n",
              "      <td>1500</td>\n",
              "      <td>51</td>\n",
              "    </tr>\n",
              "    <tr>\n",
              "      <th>2459</th>\n",
              "      <td>PALAZZO CONTARINI 20 PERSONNES</td>\n",
              "      <td>Dorsoduro</td>\n",
              "      <td>1500</td>\n",
              "      <td>3</td>\n",
              "    </tr>\n",
              "    <tr>\n",
              "      <th>4961</th>\n",
              "      <td>Le Serre de Lido - Bed &amp; Breakfast</td>\n",
              "      <td>Lido</td>\n",
              "      <td>1500</td>\n",
              "      <td>0</td>\n",
              "    </tr>\n",
              "    <tr>\n",
              "      <th>5148</th>\n",
              "      <td>Palazzo Cristo Master Apartment</td>\n",
              "      <td>Castello</td>\n",
              "      <td>1500</td>\n",
              "      <td>0</td>\n",
              "    </tr>\n",
              "  </tbody>\n",
              "</table>\n",
              "</div>"
            ],
            "text/plain": [
              "                                                   name  ... number_of_reviews\n",
              "134   Charming Apartment with gran canal view in Rialto  ...               342\n",
              "6576   Appealing Double Or Twin Run Of House At Venezia  ...                 0\n",
              "5805                                          Celestina  ...                 1\n",
              "3984                                Capannone Redentore  ...                 1\n",
              "5807                                               Lena  ...                 4\n",
              "5806                                          Imperiale  ...                 3\n",
              "3249  Samarcanda House.Four steps from the Film Fest...  ...                51\n",
              "2459                     PALAZZO CONTARINI 20 PERSONNES  ...                 3\n",
              "4961                 Le Serre de Lido - Bed & Breakfast  ...                 0\n",
              "5148                    Palazzo Cristo Master Apartment  ...                 0\n",
              "\n",
              "[10 rows x 4 columns]"
            ]
          },
          "metadata": {},
          "execution_count": 219
        }
      ]
    },
    {
      "cell_type": "code",
      "metadata": {
        "colab": {
          "base_uri": "https://localhost:8080/",
          "height": 363
        },
        "id": "tX90WRJe-VBG",
        "outputId": "5aef19ff-a1f3-4cad-a70f-b3bb9ff4229f"
      },
      "source": [
        "# nome acomodações mais baratas\n",
        "df_clean[['name','neighbourhood','price','number_of_reviews']].sort_values(by=['price','number_of_reviews'],ascending=False)[-10:]"
      ],
      "execution_count": 237,
      "outputs": [
        {
          "output_type": "execute_result",
          "data": {
            "text/html": [
              "<div>\n",
              "<style scoped>\n",
              "    .dataframe tbody tr th:only-of-type {\n",
              "        vertical-align: middle;\n",
              "    }\n",
              "\n",
              "    .dataframe tbody tr th {\n",
              "        vertical-align: top;\n",
              "    }\n",
              "\n",
              "    .dataframe thead th {\n",
              "        text-align: right;\n",
              "    }\n",
              "</style>\n",
              "<table border=\"1\" class=\"dataframe\">\n",
              "  <thead>\n",
              "    <tr style=\"text-align: right;\">\n",
              "      <th></th>\n",
              "      <th>name</th>\n",
              "      <th>neighbourhood</th>\n",
              "      <th>price</th>\n",
              "      <th>number_of_reviews</th>\n",
              "    </tr>\n",
              "  </thead>\n",
              "  <tbody>\n",
              "    <tr>\n",
              "      <th>3164</th>\n",
              "      <td>Valier for 5 persons.</td>\n",
              "      <td>Castello</td>\n",
              "      <td>9</td>\n",
              "      <td>6</td>\n",
              "    </tr>\n",
              "    <tr>\n",
              "      <th>3166</th>\n",
              "      <td>Casanas for 7 persons.</td>\n",
              "      <td>Castello</td>\n",
              "      <td>9</td>\n",
              "      <td>6</td>\n",
              "    </tr>\n",
              "    <tr>\n",
              "      <th>3622</th>\n",
              "      <td>Suite Casa Nova for 6 persons.</td>\n",
              "      <td>Castello</td>\n",
              "      <td>9</td>\n",
              "      <td>6</td>\n",
              "    </tr>\n",
              "    <tr>\n",
              "      <th>3111</th>\n",
              "      <td>Campo Santa Maria Formosa for 5 persons.</td>\n",
              "      <td>Castello</td>\n",
              "      <td>9</td>\n",
              "      <td>4</td>\n",
              "    </tr>\n",
              "    <tr>\n",
              "      <th>3167</th>\n",
              "      <td>San Vio for 6 persons.</td>\n",
              "      <td>Dorsoduro</td>\n",
              "      <td>9</td>\n",
              "      <td>4</td>\n",
              "    </tr>\n",
              "    <tr>\n",
              "      <th>2764</th>\n",
              "      <td>Judeca Nova for 3 persons.</td>\n",
              "      <td>Giudecca</td>\n",
              "      <td>9</td>\n",
              "      <td>2</td>\n",
              "    </tr>\n",
              "    <tr>\n",
              "      <th>2765</th>\n",
              "      <td>Iris for 3 persons.</td>\n",
              "      <td>Giudecca</td>\n",
              "      <td>9</td>\n",
              "      <td>2</td>\n",
              "    </tr>\n",
              "    <tr>\n",
              "      <th>3112</th>\n",
              "      <td>Sotoportego Venier for 4 persons.</td>\n",
              "      <td>Castello</td>\n",
              "      <td>9</td>\n",
              "      <td>2</td>\n",
              "    </tr>\n",
              "    <tr>\n",
              "      <th>3114</th>\n",
              "      <td>Al Foghèr for 3 persons.</td>\n",
              "      <td>San Polo</td>\n",
              "      <td>9</td>\n",
              "      <td>1</td>\n",
              "    </tr>\n",
              "    <tr>\n",
              "      <th>3113</th>\n",
              "      <td>Fondamenta del Rielo for 5 persons.</td>\n",
              "      <td>Castello</td>\n",
              "      <td>9</td>\n",
              "      <td>0</td>\n",
              "    </tr>\n",
              "  </tbody>\n",
              "</table>\n",
              "</div>"
            ],
            "text/plain": [
              "                                          name  ... number_of_reviews\n",
              "3164                     Valier for 5 persons.  ...                 6\n",
              "3166                    Casanas for 7 persons.  ...                 6\n",
              "3622            Suite Casa Nova for 6 persons.  ...                 6\n",
              "3111  Campo Santa Maria Formosa for 5 persons.  ...                 4\n",
              "3167                    San Vio for 6 persons.  ...                 4\n",
              "2764                Judeca Nova for 3 persons.  ...                 2\n",
              "2765                       Iris for 3 persons.  ...                 2\n",
              "3112         Sotoportego Venier for 4 persons.  ...                 2\n",
              "3114                  Al Foghèr for 3 persons.  ...                 1\n",
              "3113       Fondamenta del Rielo for 5 persons.  ...                 0\n",
              "\n",
              "[10 rows x 4 columns]"
            ]
          },
          "metadata": {},
          "execution_count": 237
        }
      ]
    },
    {
      "cell_type": "code",
      "metadata": {
        "colab": {
          "base_uri": "https://localhost:8080/",
          "height": 473
        },
        "id": "jQSm2M85BlLz",
        "outputId": "0f85481a-5a75-4d02-e04d-814e67d263d0"
      },
      "source": [
        "# imóveis pela latitude-longitude\n",
        "df_clean.plot(kind=\"scatter\", x='longitude', y='latitude', alpha=0.4, c=df_clean['price'], s=8,\n",
        "              cmap=plt.get_cmap('jet'), figsize=(12,8));\n",
        "\n",
        "\n"
      ],
      "execution_count": 280,
      "outputs": [
        {
          "output_type": "display_data",
          "data": {
            "image/png": "[encoded data removed]",
            "text/plain": [
              "<Figure size 864x576 with 2 Axes>"
            ]
          },
          "metadata": {
            "needs_background": "light"
          }
        }
      ]
    },
    {
      "cell_type": "markdown",
      "metadata": {
        "id": "ZFT48NaP8h6U"
      },
      "source": [
        "**Número de noites em Veneza**"
      ]
    },
    {
      "cell_type": "code",
      "metadata": {
        "colab": {
          "base_uri": "https://localhost:8080/"
        },
        "id": "k02J3qo00PkG",
        "outputId": "2246ecb8-af56-4055-9772-4e92e11e4074"
      },
      "source": [
        "# média do minimo de noites\n",
        "print('A média de estadia mínima em Veneza é de {} noites'.format(round(df_clean['minimum_nights'].median())))"
      ],
      "execution_count": 239,
      "outputs": [
        {
          "output_type": "stream",
          "name": "stdout",
          "text": [
            "A média de estadia mínima em Veneza é de 2 noites\n"
          ]
        }
      ]
    },
    {
      "cell_type": "markdown",
      "metadata": {
        "id": "GkvAg623RjoR"
      },
      "source": [
        "## Conclusões\n",
        "----\n",
        "O objetivo principal desse projeto foi realizar uma análise inicial dos dados da empresa **Airbnb** para cidade de Veneza na Itália. O dataset utilizado consiste em uma versão simplificada dos dados das acomodações.\n",
        "\n",
        "Nesse projeto foi necessário o tratamento dos dados, os quais apresentava valores ausentes e *outliers*, sendo necessária a exclusão de colunas e preenchimentos dos valores ausentes para algumas variáveis.\n",
        "\n",
        "Com base na análise apresentada, foi possivél ver quais as regiões que possuem maior quantidade de acomodações, os tipos de acomodações disponivéis e o preço médio de cada região.\n",
        "\n",
        "Como proposta futura, sugere-se que seja realizada a análise exploratória com o conjunto de dados completos contendo as principais cidades turísticas da Itália (Roma, Milão e Florença)."
      ]
    },
    {
      "cell_type": "code",
      "metadata": {
        "id": "K4_R3G34LsIm"
      },
      "source": [
        ""
      ],
      "execution_count": null,
      "outputs": []
    }
  ]
}